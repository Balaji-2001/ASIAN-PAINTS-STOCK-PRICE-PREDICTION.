{
 "cells": [
  {
   "cell_type": "code",
   "execution_count": 1,
   "id": "5e197f90",
   "metadata": {},
   "outputs": [],
   "source": [
    "# Import libraries\n",
    "\n",
    "import pandas as pd\n",
    "import numpy as np\n",
    "import datetime\n",
    "import seaborn as sns\n",
    "import math\n",
    "import matplotlib.pyplot as plt\n",
    "%matplotlib inline"
   ]
  },
  {
   "cell_type": "code",
   "execution_count": 2,
   "id": "ba2c5109",
   "metadata": {},
   "outputs": [
    {
     "data": {
      "text/html": [
       "<div>\n",
       "<style scoped>\n",
       "    .dataframe tbody tr th:only-of-type {\n",
       "        vertical-align: middle;\n",
       "    }\n",
       "\n",
       "    .dataframe tbody tr th {\n",
       "        vertical-align: top;\n",
       "    }\n",
       "\n",
       "    .dataframe thead th {\n",
       "        text-align: right;\n",
       "    }\n",
       "</style>\n",
       "<table border=\"1\" class=\"dataframe\">\n",
       "  <thead>\n",
       "    <tr style=\"text-align: right;\">\n",
       "      <th></th>\n",
       "      <th>Date</th>\n",
       "      <th>Open</th>\n",
       "      <th>High</th>\n",
       "      <th>Low</th>\n",
       "      <th>Close</th>\n",
       "      <th>Adj Close</th>\n",
       "      <th>Volume</th>\n",
       "    </tr>\n",
       "  </thead>\n",
       "  <tbody>\n",
       "    <tr>\n",
       "      <th>0</th>\n",
       "      <td>2020-02-28</td>\n",
       "      <td>1820.000000</td>\n",
       "      <td>1842.099976</td>\n",
       "      <td>1783.150024</td>\n",
       "      <td>1797.949951</td>\n",
       "      <td>1762.830078</td>\n",
       "      <td>2964119</td>\n",
       "    </tr>\n",
       "    <tr>\n",
       "      <th>1</th>\n",
       "      <td>2020-03-02</td>\n",
       "      <td>1815.099976</td>\n",
       "      <td>1837.449951</td>\n",
       "      <td>1769.250000</td>\n",
       "      <td>1786.800049</td>\n",
       "      <td>1751.897949</td>\n",
       "      <td>1219296</td>\n",
       "    </tr>\n",
       "    <tr>\n",
       "      <th>2</th>\n",
       "      <td>2020-03-03</td>\n",
       "      <td>1780.050049</td>\n",
       "      <td>1818.000000</td>\n",
       "      <td>1767.000000</td>\n",
       "      <td>1800.550049</td>\n",
       "      <td>1772.472168</td>\n",
       "      <td>1392463</td>\n",
       "    </tr>\n",
       "    <tr>\n",
       "      <th>3</th>\n",
       "      <td>2020-03-04</td>\n",
       "      <td>1804.050049</td>\n",
       "      <td>1857.449951</td>\n",
       "      <td>1804.050049</td>\n",
       "      <td>1847.949951</td>\n",
       "      <td>1819.132690</td>\n",
       "      <td>3050469</td>\n",
       "    </tr>\n",
       "    <tr>\n",
       "      <th>4</th>\n",
       "      <td>2020-03-05</td>\n",
       "      <td>1854.000000</td>\n",
       "      <td>1882.000000</td>\n",
       "      <td>1852.099976</td>\n",
       "      <td>1874.449951</td>\n",
       "      <td>1845.219360</td>\n",
       "      <td>2062439</td>\n",
       "    </tr>\n",
       "    <tr>\n",
       "      <th>5</th>\n",
       "      <td>2020-03-06</td>\n",
       "      <td>1840.000000</td>\n",
       "      <td>1884.400024</td>\n",
       "      <td>1835.000000</td>\n",
       "      <td>1877.449951</td>\n",
       "      <td>1848.172607</td>\n",
       "      <td>1393659</td>\n",
       "    </tr>\n",
       "    <tr>\n",
       "      <th>6</th>\n",
       "      <td>2020-03-09</td>\n",
       "      <td>1888.000000</td>\n",
       "      <td>1915.900024</td>\n",
       "      <td>1848.000000</td>\n",
       "      <td>1867.150024</td>\n",
       "      <td>1838.033569</td>\n",
       "      <td>3420741</td>\n",
       "    </tr>\n",
       "    <tr>\n",
       "      <th>7</th>\n",
       "      <td>2020-03-11</td>\n",
       "      <td>1874.949951</td>\n",
       "      <td>1905.000000</td>\n",
       "      <td>1851.500000</td>\n",
       "      <td>1882.849976</td>\n",
       "      <td>1853.488525</td>\n",
       "      <td>3194186</td>\n",
       "    </tr>\n",
       "    <tr>\n",
       "      <th>8</th>\n",
       "      <td>2020-03-12</td>\n",
       "      <td>1864.949951</td>\n",
       "      <td>1874.800049</td>\n",
       "      <td>1815.000000</td>\n",
       "      <td>1843.349976</td>\n",
       "      <td>1814.604492</td>\n",
       "      <td>6254349</td>\n",
       "    </tr>\n",
       "    <tr>\n",
       "      <th>9</th>\n",
       "      <td>2020-03-13</td>\n",
       "      <td>1785.000000</td>\n",
       "      <td>1843.750000</td>\n",
       "      <td>1669.849976</td>\n",
       "      <td>1797.699951</td>\n",
       "      <td>1769.666260</td>\n",
       "      <td>3878300</td>\n",
       "    </tr>\n",
       "  </tbody>\n",
       "</table>\n",
       "</div>"
      ],
      "text/plain": [
       "         Date         Open         High          Low        Close  \\\n",
       "0  2020-02-28  1820.000000  1842.099976  1783.150024  1797.949951   \n",
       "1  2020-03-02  1815.099976  1837.449951  1769.250000  1786.800049   \n",
       "2  2020-03-03  1780.050049  1818.000000  1767.000000  1800.550049   \n",
       "3  2020-03-04  1804.050049  1857.449951  1804.050049  1847.949951   \n",
       "4  2020-03-05  1854.000000  1882.000000  1852.099976  1874.449951   \n",
       "5  2020-03-06  1840.000000  1884.400024  1835.000000  1877.449951   \n",
       "6  2020-03-09  1888.000000  1915.900024  1848.000000  1867.150024   \n",
       "7  2020-03-11  1874.949951  1905.000000  1851.500000  1882.849976   \n",
       "8  2020-03-12  1864.949951  1874.800049  1815.000000  1843.349976   \n",
       "9  2020-03-13  1785.000000  1843.750000  1669.849976  1797.699951   \n",
       "\n",
       "     Adj Close   Volume  \n",
       "0  1762.830078  2964119  \n",
       "1  1751.897949  1219296  \n",
       "2  1772.472168  1392463  \n",
       "3  1819.132690  3050469  \n",
       "4  1845.219360  2062439  \n",
       "5  1848.172607  1393659  \n",
       "6  1838.033569  3420741  \n",
       "7  1853.488525  3194186  \n",
       "8  1814.604492  6254349  \n",
       "9  1769.666260  3878300  "
      ]
     },
     "execution_count": 2,
     "metadata": {},
     "output_type": "execute_result"
    }
   ],
   "source": [
    "# Reading the Dataset:\n",
    "\n",
    "df = pd.read_csv(\"C:/Users/hp/Downloads/ASIANPAINT.csv\")\n",
    "df.head(10)"
   ]
  },
  {
   "cell_type": "code",
   "execution_count": 3,
   "id": "8e7e2756",
   "metadata": {},
   "outputs": [
    {
     "name": "stdout",
     "output_type": "stream",
     "text": [
      "<class 'pandas.core.frame.DataFrame'>\n",
      "RangeIndex: 746 entries, 0 to 745\n",
      "Data columns (total 7 columns):\n",
      " #   Column     Non-Null Count  Dtype  \n",
      "---  ------     --------------  -----  \n",
      " 0   Date       746 non-null    object \n",
      " 1   Open       746 non-null    float64\n",
      " 2   High       746 non-null    float64\n",
      " 3   Low        746 non-null    float64\n",
      " 4   Close      746 non-null    float64\n",
      " 5   Adj Close  746 non-null    float64\n",
      " 6   Volume     746 non-null    int64  \n",
      "dtypes: float64(5), int64(1), object(1)\n",
      "memory usage: 40.9+ KB\n"
     ]
    }
   ],
   "source": [
    "df.info()"
   ]
  },
  {
   "cell_type": "code",
   "execution_count": 4,
   "id": "ba53279c",
   "metadata": {},
   "outputs": [
    {
     "data": {
      "text/html": [
       "<div>\n",
       "<style scoped>\n",
       "    .dataframe tbody tr th:only-of-type {\n",
       "        vertical-align: middle;\n",
       "    }\n",
       "\n",
       "    .dataframe tbody tr th {\n",
       "        vertical-align: top;\n",
       "    }\n",
       "\n",
       "    .dataframe thead th {\n",
       "        text-align: right;\n",
       "    }\n",
       "</style>\n",
       "<table border=\"1\" class=\"dataframe\">\n",
       "  <thead>\n",
       "    <tr style=\"text-align: right;\">\n",
       "      <th></th>\n",
       "      <th>Date</th>\n",
       "      <th>Open</th>\n",
       "      <th>High</th>\n",
       "      <th>Low</th>\n",
       "      <th>Close</th>\n",
       "      <th>Adj Close</th>\n",
       "      <th>Volume</th>\n",
       "    </tr>\n",
       "  </thead>\n",
       "  <tbody>\n",
       "    <tr>\n",
       "      <th>0</th>\n",
       "      <td>2020-02-28</td>\n",
       "      <td>1820.000000</td>\n",
       "      <td>1842.099976</td>\n",
       "      <td>1783.150024</td>\n",
       "      <td>1797.949951</td>\n",
       "      <td>1762.830078</td>\n",
       "      <td>2964119</td>\n",
       "    </tr>\n",
       "    <tr>\n",
       "      <th>1</th>\n",
       "      <td>2020-03-02</td>\n",
       "      <td>1815.099976</td>\n",
       "      <td>1837.449951</td>\n",
       "      <td>1769.250000</td>\n",
       "      <td>1786.800049</td>\n",
       "      <td>1751.897949</td>\n",
       "      <td>1219296</td>\n",
       "    </tr>\n",
       "    <tr>\n",
       "      <th>2</th>\n",
       "      <td>2020-03-03</td>\n",
       "      <td>1780.050049</td>\n",
       "      <td>1818.000000</td>\n",
       "      <td>1767.000000</td>\n",
       "      <td>1800.550049</td>\n",
       "      <td>1772.472168</td>\n",
       "      <td>1392463</td>\n",
       "    </tr>\n",
       "    <tr>\n",
       "      <th>3</th>\n",
       "      <td>2020-03-04</td>\n",
       "      <td>1804.050049</td>\n",
       "      <td>1857.449951</td>\n",
       "      <td>1804.050049</td>\n",
       "      <td>1847.949951</td>\n",
       "      <td>1819.132690</td>\n",
       "      <td>3050469</td>\n",
       "    </tr>\n",
       "    <tr>\n",
       "      <th>4</th>\n",
       "      <td>2020-03-05</td>\n",
       "      <td>1854.000000</td>\n",
       "      <td>1882.000000</td>\n",
       "      <td>1852.099976</td>\n",
       "      <td>1874.449951</td>\n",
       "      <td>1845.219360</td>\n",
       "      <td>2062439</td>\n",
       "    </tr>\n",
       "    <tr>\n",
       "      <th>...</th>\n",
       "      <td>...</td>\n",
       "      <td>...</td>\n",
       "      <td>...</td>\n",
       "      <td>...</td>\n",
       "      <td>...</td>\n",
       "      <td>...</td>\n",
       "      <td>...</td>\n",
       "    </tr>\n",
       "    <tr>\n",
       "      <th>741</th>\n",
       "      <td>2023-02-21</td>\n",
       "      <td>2837.000000</td>\n",
       "      <td>2838.699951</td>\n",
       "      <td>2805.000000</td>\n",
       "      <td>2817.100098</td>\n",
       "      <td>2817.100098</td>\n",
       "      <td>631934</td>\n",
       "    </tr>\n",
       "    <tr>\n",
       "      <th>742</th>\n",
       "      <td>2023-02-22</td>\n",
       "      <td>2809.949951</td>\n",
       "      <td>2813.949951</td>\n",
       "      <td>2780.000000</td>\n",
       "      <td>2795.949951</td>\n",
       "      <td>2795.949951</td>\n",
       "      <td>580270</td>\n",
       "    </tr>\n",
       "    <tr>\n",
       "      <th>743</th>\n",
       "      <td>2023-02-23</td>\n",
       "      <td>2805.000000</td>\n",
       "      <td>2805.550049</td>\n",
       "      <td>2700.100098</td>\n",
       "      <td>2705.949951</td>\n",
       "      <td>2705.949951</td>\n",
       "      <td>1790570</td>\n",
       "    </tr>\n",
       "    <tr>\n",
       "      <th>744</th>\n",
       "      <td>2023-02-24</td>\n",
       "      <td>2712.100098</td>\n",
       "      <td>2762.000000</td>\n",
       "      <td>2710.000000</td>\n",
       "      <td>2738.500000</td>\n",
       "      <td>2738.500000</td>\n",
       "      <td>1429040</td>\n",
       "    </tr>\n",
       "    <tr>\n",
       "      <th>745</th>\n",
       "      <td>2023-02-27</td>\n",
       "      <td>2740.399902</td>\n",
       "      <td>2758.649902</td>\n",
       "      <td>2725.050049</td>\n",
       "      <td>2749.899902</td>\n",
       "      <td>2749.899902</td>\n",
       "      <td>561317</td>\n",
       "    </tr>\n",
       "  </tbody>\n",
       "</table>\n",
       "<p>746 rows × 7 columns</p>\n",
       "</div>"
      ],
      "text/plain": [
       "           Date         Open         High          Low        Close  \\\n",
       "0    2020-02-28  1820.000000  1842.099976  1783.150024  1797.949951   \n",
       "1    2020-03-02  1815.099976  1837.449951  1769.250000  1786.800049   \n",
       "2    2020-03-03  1780.050049  1818.000000  1767.000000  1800.550049   \n",
       "3    2020-03-04  1804.050049  1857.449951  1804.050049  1847.949951   \n",
       "4    2020-03-05  1854.000000  1882.000000  1852.099976  1874.449951   \n",
       "..          ...          ...          ...          ...          ...   \n",
       "741  2023-02-21  2837.000000  2838.699951  2805.000000  2817.100098   \n",
       "742  2023-02-22  2809.949951  2813.949951  2780.000000  2795.949951   \n",
       "743  2023-02-23  2805.000000  2805.550049  2700.100098  2705.949951   \n",
       "744  2023-02-24  2712.100098  2762.000000  2710.000000  2738.500000   \n",
       "745  2023-02-27  2740.399902  2758.649902  2725.050049  2749.899902   \n",
       "\n",
       "       Adj Close   Volume  \n",
       "0    1762.830078  2964119  \n",
       "1    1751.897949  1219296  \n",
       "2    1772.472168  1392463  \n",
       "3    1819.132690  3050469  \n",
       "4    1845.219360  2062439  \n",
       "..           ...      ...  \n",
       "741  2817.100098   631934  \n",
       "742  2795.949951   580270  \n",
       "743  2705.949951  1790570  \n",
       "744  2738.500000  1429040  \n",
       "745  2749.899902   561317  \n",
       "\n",
       "[746 rows x 7 columns]"
      ]
     },
     "execution_count": 4,
     "metadata": {},
     "output_type": "execute_result"
    }
   ],
   "source": [
    "# Sorting the data set by Date column\n",
    "\n",
    "df.sort_values(by=['Date'])"
   ]
  },
  {
   "cell_type": "code",
   "execution_count": 5,
   "id": "3db350d2",
   "metadata": {},
   "outputs": [
    {
     "data": {
      "text/html": [
       "<div>\n",
       "<style scoped>\n",
       "    .dataframe tbody tr th:only-of-type {\n",
       "        vertical-align: middle;\n",
       "    }\n",
       "\n",
       "    .dataframe tbody tr th {\n",
       "        vertical-align: top;\n",
       "    }\n",
       "\n",
       "    .dataframe thead th {\n",
       "        text-align: right;\n",
       "    }\n",
       "</style>\n",
       "<table border=\"1\" class=\"dataframe\">\n",
       "  <thead>\n",
       "    <tr style=\"text-align: right;\">\n",
       "      <th></th>\n",
       "      <th>Open</th>\n",
       "      <th>High</th>\n",
       "      <th>Low</th>\n",
       "      <th>Close</th>\n",
       "      <th>Adj Close</th>\n",
       "      <th>Volume</th>\n",
       "    </tr>\n",
       "  </thead>\n",
       "  <tbody>\n",
       "    <tr>\n",
       "      <th>count</th>\n",
       "      <td>746.000000</td>\n",
       "      <td>746.000000</td>\n",
       "      <td>746.000000</td>\n",
       "      <td>746.000000</td>\n",
       "      <td>746.000000</td>\n",
       "      <td>7.460000e+02</td>\n",
       "    </tr>\n",
       "    <tr>\n",
       "      <th>mean</th>\n",
       "      <td>2701.272987</td>\n",
       "      <td>2731.787063</td>\n",
       "      <td>2666.202350</td>\n",
       "      <td>2698.774124</td>\n",
       "      <td>2677.426036</td>\n",
       "      <td>1.735271e+06</td>\n",
       "    </tr>\n",
       "    <tr>\n",
       "      <th>std</th>\n",
       "      <td>573.829814</td>\n",
       "      <td>574.472457</td>\n",
       "      <td>570.579467</td>\n",
       "      <td>573.152070</td>\n",
       "      <td>577.953345</td>\n",
       "      <td>1.237961e+06</td>\n",
       "    </tr>\n",
       "    <tr>\n",
       "      <th>min</th>\n",
       "      <td>1446.550049</td>\n",
       "      <td>1514.000000</td>\n",
       "      <td>1431.199951</td>\n",
       "      <td>1498.449951</td>\n",
       "      <td>1475.082886</td>\n",
       "      <td>1.469910e+05</td>\n",
       "    </tr>\n",
       "    <tr>\n",
       "      <th>25%</th>\n",
       "      <td>2235.712463</td>\n",
       "      <td>2248.250000</td>\n",
       "      <td>2203.424988</td>\n",
       "      <td>2226.599976</td>\n",
       "      <td>2197.167786</td>\n",
       "      <td>8.820460e+05</td>\n",
       "    </tr>\n",
       "    <tr>\n",
       "      <th>50%</th>\n",
       "      <td>2919.800049</td>\n",
       "      <td>2939.924926</td>\n",
       "      <td>2874.275024</td>\n",
       "      <td>2910.974976</td>\n",
       "      <td>2887.643433</td>\n",
       "      <td>1.399396e+06</td>\n",
       "    </tr>\n",
       "    <tr>\n",
       "      <th>75%</th>\n",
       "      <td>3133.500000</td>\n",
       "      <td>3169.750000</td>\n",
       "      <td>3102.700012</td>\n",
       "      <td>3141.200012</td>\n",
       "      <td>3122.411866</td>\n",
       "      <td>2.161083e+06</td>\n",
       "    </tr>\n",
       "    <tr>\n",
       "      <th>max</th>\n",
       "      <td>3580.000000</td>\n",
       "      <td>3590.000000</td>\n",
       "      <td>3534.000000</td>\n",
       "      <td>3576.300049</td>\n",
       "      <td>3565.504639</td>\n",
       "      <td>1.154592e+07</td>\n",
       "    </tr>\n",
       "  </tbody>\n",
       "</table>\n",
       "</div>"
      ],
      "text/plain": [
       "              Open         High          Low        Close    Adj Close  \\\n",
       "count   746.000000   746.000000   746.000000   746.000000   746.000000   \n",
       "mean   2701.272987  2731.787063  2666.202350  2698.774124  2677.426036   \n",
       "std     573.829814   574.472457   570.579467   573.152070   577.953345   \n",
       "min    1446.550049  1514.000000  1431.199951  1498.449951  1475.082886   \n",
       "25%    2235.712463  2248.250000  2203.424988  2226.599976  2197.167786   \n",
       "50%    2919.800049  2939.924926  2874.275024  2910.974976  2887.643433   \n",
       "75%    3133.500000  3169.750000  3102.700012  3141.200012  3122.411866   \n",
       "max    3580.000000  3590.000000  3534.000000  3576.300049  3565.504639   \n",
       "\n",
       "             Volume  \n",
       "count  7.460000e+02  \n",
       "mean   1.735271e+06  \n",
       "std    1.237961e+06  \n",
       "min    1.469910e+05  \n",
       "25%    8.820460e+05  \n",
       "50%    1.399396e+06  \n",
       "75%    2.161083e+06  \n",
       "max    1.154592e+07  "
      ]
     },
     "execution_count": 5,
     "metadata": {},
     "output_type": "execute_result"
    }
   ],
   "source": [
    "# Finding an statstical measure\n",
    "\n",
    "df.describe()"
   ]
  },
  {
   "cell_type": "code",
   "execution_count": 6,
   "id": "bd9ebd60",
   "metadata": {},
   "outputs": [
    {
     "data": {
      "text/html": [
       "<div>\n",
       "<style scoped>\n",
       "    .dataframe tbody tr th:only-of-type {\n",
       "        vertical-align: middle;\n",
       "    }\n",
       "\n",
       "    .dataframe tbody tr th {\n",
       "        vertical-align: top;\n",
       "    }\n",
       "\n",
       "    .dataframe thead th {\n",
       "        text-align: right;\n",
       "    }\n",
       "</style>\n",
       "<table border=\"1\" class=\"dataframe\">\n",
       "  <thead>\n",
       "    <tr style=\"text-align: right;\">\n",
       "      <th></th>\n",
       "      <th>Open</th>\n",
       "      <th>High</th>\n",
       "      <th>Low</th>\n",
       "      <th>Close</th>\n",
       "      <th>Adj Close</th>\n",
       "      <th>Volume</th>\n",
       "    </tr>\n",
       "  </thead>\n",
       "  <tbody>\n",
       "    <tr>\n",
       "      <th>Open</th>\n",
       "      <td>1.000000</td>\n",
       "      <td>0.998671</td>\n",
       "      <td>0.998579</td>\n",
       "      <td>0.997020</td>\n",
       "      <td>0.996935</td>\n",
       "      <td>-0.517017</td>\n",
       "    </tr>\n",
       "    <tr>\n",
       "      <th>High</th>\n",
       "      <td>0.998671</td>\n",
       "      <td>1.000000</td>\n",
       "      <td>0.998409</td>\n",
       "      <td>0.998876</td>\n",
       "      <td>0.998682</td>\n",
       "      <td>-0.498909</td>\n",
       "    </tr>\n",
       "    <tr>\n",
       "      <th>Low</th>\n",
       "      <td>0.998579</td>\n",
       "      <td>0.998409</td>\n",
       "      <td>1.000000</td>\n",
       "      <td>0.998731</td>\n",
       "      <td>0.998620</td>\n",
       "      <td>-0.527973</td>\n",
       "    </tr>\n",
       "    <tr>\n",
       "      <th>Close</th>\n",
       "      <td>0.997020</td>\n",
       "      <td>0.998876</td>\n",
       "      <td>0.998731</td>\n",
       "      <td>1.000000</td>\n",
       "      <td>0.999836</td>\n",
       "      <td>-0.510786</td>\n",
       "    </tr>\n",
       "    <tr>\n",
       "      <th>Adj Close</th>\n",
       "      <td>0.996935</td>\n",
       "      <td>0.998682</td>\n",
       "      <td>0.998620</td>\n",
       "      <td>0.999836</td>\n",
       "      <td>1.000000</td>\n",
       "      <td>-0.512903</td>\n",
       "    </tr>\n",
       "    <tr>\n",
       "      <th>Volume</th>\n",
       "      <td>-0.517017</td>\n",
       "      <td>-0.498909</td>\n",
       "      <td>-0.527973</td>\n",
       "      <td>-0.510786</td>\n",
       "      <td>-0.512903</td>\n",
       "      <td>1.000000</td>\n",
       "    </tr>\n",
       "  </tbody>\n",
       "</table>\n",
       "</div>"
      ],
      "text/plain": [
       "               Open      High       Low     Close  Adj Close    Volume\n",
       "Open       1.000000  0.998671  0.998579  0.997020   0.996935 -0.517017\n",
       "High       0.998671  1.000000  0.998409  0.998876   0.998682 -0.498909\n",
       "Low        0.998579  0.998409  1.000000  0.998731   0.998620 -0.527973\n",
       "Close      0.997020  0.998876  0.998731  1.000000   0.999836 -0.510786\n",
       "Adj Close  0.996935  0.998682  0.998620  0.999836   1.000000 -0.512903\n",
       "Volume    -0.517017 -0.498909 -0.527973 -0.510786  -0.512903  1.000000"
      ]
     },
     "execution_count": 6,
     "metadata": {},
     "output_type": "execute_result"
    }
   ],
   "source": [
    "# Finding the Correlation for dataset\n",
    "\n",
    "df.corr()"
   ]
  },
  {
   "cell_type": "code",
   "execution_count": 7,
   "id": "31b7f9cb",
   "metadata": {},
   "outputs": [
    {
     "data": {
      "text/plain": [
       "(746, 7)"
      ]
     },
     "execution_count": 7,
     "metadata": {},
     "output_type": "execute_result"
    }
   ],
   "source": [
    "# Finding the shape of the dataset\n",
    "\n",
    "df.shape"
   ]
  },
  {
   "cell_type": "code",
   "execution_count": 8,
   "id": "e137cf20",
   "metadata": {},
   "outputs": [
    {
     "data": {
      "text/plain": [
       "Date         746\n",
       "Open         746\n",
       "High         746\n",
       "Low          746\n",
       "Close        746\n",
       "Adj Close    746\n",
       "Volume       746\n",
       "dtype: int64"
      ]
     },
     "execution_count": 8,
     "metadata": {},
     "output_type": "execute_result"
    }
   ],
   "source": [
    "# Count the No. of data in the column\n",
    "\n",
    "df.count()"
   ]
  },
  {
   "cell_type": "code",
   "execution_count": 9,
   "id": "730f623e",
   "metadata": {},
   "outputs": [
    {
     "data": {
      "text/plain": [
       "Date         0\n",
       "Open         0\n",
       "High         0\n",
       "Low          0\n",
       "Close        0\n",
       "Adj Close    0\n",
       "Volume       0\n",
       "dtype: int64"
      ]
     },
     "execution_count": 9,
     "metadata": {},
     "output_type": "execute_result"
    }
   ],
   "source": [
    "# Finding the Null values of the dataset\n",
    "\n",
    "df.isnull().sum()"
   ]
  },
  {
   "cell_type": "code",
   "execution_count": 10,
   "id": "b7a65383",
   "metadata": {},
   "outputs": [
    {
     "data": {
      "text/plain": [
       "Index(['Date', 'Open', 'High', 'Low', 'Close', 'Adj Close', 'Volume'], dtype='object')"
      ]
     },
     "execution_count": 10,
     "metadata": {},
     "output_type": "execute_result"
    }
   ],
   "source": [
    "# Column Names\n",
    "\n",
    "df.columns"
   ]
  },
  {
   "cell_type": "code",
   "execution_count": 11,
   "id": "d116b7ec",
   "metadata": {},
   "outputs": [
    {
     "data": {
      "text/plain": [
       "Date         746\n",
       "Open         650\n",
       "High         711\n",
       "Low          700\n",
       "Close        736\n",
       "Adj Close    741\n",
       "Volume       746\n",
       "dtype: int64"
      ]
     },
     "execution_count": 11,
     "metadata": {},
     "output_type": "execute_result"
    }
   ],
   "source": [
    "# Finding the unique values in the dataset\n",
    "\n",
    "df.nunique()"
   ]
  },
  {
   "cell_type": "code",
   "execution_count": 12,
   "id": "d4986a8f",
   "metadata": {},
   "outputs": [
    {
     "data": {
      "text/plain": [
       "0"
      ]
     },
     "execution_count": 12,
     "metadata": {},
     "output_type": "execute_result"
    }
   ],
   "source": [
    "# Finding the Duplicate value:\n",
    "\n",
    "df.duplicated().sum()"
   ]
  },
  {
   "cell_type": "code",
   "execution_count": 13,
   "id": "1544e5a0",
   "metadata": {},
   "outputs": [
    {
     "data": {
      "text/plain": [
       "<AxesSubplot:>"
      ]
     },
     "execution_count": 13,
     "metadata": {},
     "output_type": "execute_result"
    },
    {
     "data": {
      "image/png": "[encoded data removed]",
      "text/plain": [
       "<Figure size 432x288 with 1 Axes>"
      ]
     },
     "metadata": {
      "needs_background": "light"
     },
     "output_type": "display_data"
    }
   ],
   "source": [
    "# Boxplot for Volumn Column\n",
    "\n",
    "df[['Volume']].boxplot()"
   ]
  },
  {
   "cell_type": "code",
   "execution_count": 14,
   "id": "d315274b",
   "metadata": {},
   "outputs": [
    {
     "name": "stderr",
     "output_type": "stream",
     "text": [
      "C:\\ProgramData\\Anaconda3\\lib\\site-packages\\seaborn\\_decorators.py:36: FutureWarning: Pass the following variable as a keyword arg: x. From version 0.12, the only valid positional argument will be `data`, and passing other arguments without an explicit keyword will result in an error or misinterpretation.\n",
      "  warnings.warn(\n"
     ]
    },
    {
     "data": {
      "text/plain": [
       "<AxesSubplot:ylabel='count'>"
      ]
     },
     "execution_count": 14,
     "metadata": {},
     "output_type": "execute_result"
    },
    {
     "data": {
      "image/png": "[encoded data removed]",
      "text/plain": [
       "<Figure size 432x288 with 1 Axes>"
      ]
     },
     "metadata": {
      "needs_background": "light"
     },
     "output_type": "display_data"
    }
   ],
   "source": [
    "# Chart for displaying an unique count for Close column\n",
    "\n",
    "sns.countplot(df['Close'].unique())"
   ]
  },
  {
   "cell_type": "code",
   "execution_count": 15,
   "id": "71ca6990",
   "metadata": {
    "scrolled": true
   },
   "outputs": [
    {
     "data": {
      "text/plain": [
       "Text(0, 0.5, 'Prices')"
      ]
     },
     "execution_count": 15,
     "metadata": {},
     "output_type": "execute_result"
    },
    {
     "data": {
      "image/png": "[encoded data removed]",
      "text/plain": [
       "<Figure size 720x576 with 1 Axes>"
      ]
     },
     "metadata": {
      "needs_background": "light"
     },
     "output_type": "display_data"
    }
   ],
   "source": [
    "# Line Plot for Stock Price History by Date and Close Column\n",
    "\n",
    "plt.figure(figsize=(10, 8))\n",
    "plt.title('Stock Prices History')\n",
    "plt.plot(df[ 'Close'])\n",
    "plt.xlabel('Date')\n",
    "plt.ylabel('Prices')"
   ]
  },
  {
   "cell_type": "code",
   "execution_count": 16,
   "id": "0d95c233",
   "metadata": {},
   "outputs": [
    {
     "data": {
      "image/png": "[encoded data removed]",
      "text/plain": [
       "<Figure size 864x648 with 1 Axes>"
      ]
     },
     "metadata": {
      "needs_background": "light"
     },
     "output_type": "display_data"
    }
   ],
   "source": [
    "# Chart for Mid Price of Stock price by Date column\n",
    "\n",
    "plt.figure(figsize = (12,9))\n",
    "plt.plot(range(df.shape[0]),(df['Low']+df['High'])/2.0)\n",
    "plt.xticks(range(0,df.shape[0],500),df['Date'].loc[::745],rotation=45)\n",
    "plt.xlabel('Date',fontsize=12)\n",
    "plt.ylabel('Mid Price',fontsize=12)\n",
    "plt.show()"
   ]
  },
  {
   "cell_type": "code",
   "execution_count": 17,
   "id": "d54b8708",
   "metadata": {},
   "outputs": [],
   "source": [
    "# Preparation of training set\n",
    "\n",
    "from sklearn.preprocessing import MinMaxScaler\n",
    "\n",
    "close_prices = df['Close']\n",
    "values = close_prices.values\n",
    "training_data_len = math.ceil(len(values)* 0.8)\n",
    "\n",
    "scaler = MinMaxScaler(feature_range=(0,1))\n",
    "scaled_data = scaler.fit_transform(values.reshape(-1,1))\n",
    "train_data = scaled_data[0: training_data_len, :]\n",
    "\n",
    "x_train = []\n",
    "y_train = []\n",
    "\n",
    "for i in range(60, len(train_data)):\n",
    "    x_train.append(train_data[i-60:i, 0])\n",
    "    y_train.append(train_data[i, 0])\n",
    "    \n",
    "x_train, y_train = np.array(x_train), np.array(y_train)\n",
    "x_train = np.reshape(x_train, (x_train.shape[0], x_train.shape[1], 1))"
   ]
  },
  {
   "cell_type": "code",
   "execution_count": 18,
   "id": "7e5e9970",
   "metadata": {},
   "outputs": [],
   "source": [
    "# Preparation of test set\n",
    "\n",
    "test_data = scaled_data[training_data_len-60: , : ]\n",
    "x_test = []\n",
    "y_test = values[training_data_len:]\n",
    "\n",
    "for i in range(60, len(test_data)):\n",
    "  x_test.append(test_data[i-60:i, 0])\n",
    "\n",
    "x_test = np.array(x_test)\n",
    "x_test = np.reshape(x_test, (x_test.shape[0], x_test.shape[1], 1))"
   ]
  },
  {
   "cell_type": "code",
   "execution_count": 19,
   "id": "123c8f9e",
   "metadata": {},
   "outputs": [
    {
     "data": {
      "text/plain": [
       "(537, 60, 1)"
      ]
     },
     "execution_count": 19,
     "metadata": {},
     "output_type": "execute_result"
    }
   ],
   "source": [
    "x_train.shape"
   ]
  },
  {
   "cell_type": "code",
   "execution_count": 20,
   "id": "803dd99a",
   "metadata": {},
   "outputs": [
    {
     "data": {
      "text/plain": [
       "(537,)"
      ]
     },
     "execution_count": 20,
     "metadata": {},
     "output_type": "execute_result"
    }
   ],
   "source": [
    "y_train.shape"
   ]
  },
  {
   "cell_type": "code",
   "execution_count": 21,
   "id": "94dbdb5c",
   "metadata": {},
   "outputs": [],
   "source": [
    "import tensorflow as tf\n",
    "from tensorflow import keras\n",
    "from tensorflow.keras import layers"
   ]
  },
  {
   "cell_type": "code",
   "execution_count": 22,
   "id": "643dd0a2",
   "metadata": {},
   "outputs": [
    {
     "name": "stdout",
     "output_type": "stream",
     "text": [
      "Model: \"sequential\"\n",
      "_________________________________________________________________\n",
      " Layer (type)                Output Shape              Param #   \n",
      "=================================================================\n",
      " lstm (LSTM)                 (None, 60, 100)           40800     \n",
      "                                                                 \n",
      " lstm_1 (LSTM)               (None, 100)               80400     \n",
      "                                                                 \n",
      " dense (Dense)               (None, 25)                2525      \n",
      "                                                                 \n",
      " dense_1 (Dense)             (None, 1)                 26        \n",
      "                                                                 \n",
      "=================================================================\n",
      "Total params: 123,751\n",
      "Trainable params: 123,751\n",
      "Non-trainable params: 0\n",
      "_________________________________________________________________\n"
     ]
    }
   ],
   "source": [
    "# Building an LSTM Model\n",
    "\n",
    "model = keras.Sequential()\n",
    "model.add(layers.LSTM(100, return_sequences=True, input_shape=(x_train.shape[1], 1)))\n",
    "model.add(layers.LSTM(100, return_sequences=False))\n",
    "model.add(layers.Dense(25))\n",
    "model.add(layers.Dense(1))\n",
    "model.summary()"
   ]
  },
  {
   "cell_type": "code",
   "execution_count": 23,
   "id": "5515d220",
   "metadata": {},
   "outputs": [
    {
     "name": "stdout",
     "output_type": "stream",
     "text": [
      "Epoch 1/3\n",
      "537/537 [==============================] - 16s 26ms/step - loss: 0.0072\n",
      "Epoch 2/3\n",
      "537/537 [==============================] - 14s 25ms/step - loss: 0.0026\n",
      "Epoch 3/3\n",
      "537/537 [==============================] - 13s 24ms/step - loss: 0.0018\n"
     ]
    },
    {
     "data": {
      "text/plain": [
       "<keras.callbacks.History at 0x17d68cd4a60>"
      ]
     },
     "execution_count": 23,
     "metadata": {},
     "output_type": "execute_result"
    }
   ],
   "source": [
    "model.compile(optimizer='adam', loss='mean_squared_error')\n",
    "\n",
    "model.fit(x_train, y_train, batch_size= 1, epochs=3)"
   ]
  },
  {
   "cell_type": "code",
   "execution_count": 24,
   "id": "149a3c66",
   "metadata": {},
   "outputs": [
    {
     "data": {
      "text/plain": [
       "0.5706981466998138"
      ]
     },
     "execution_count": 24,
     "metadata": {},
     "output_type": "execute_result"
    }
   ],
   "source": [
    "# Model Evaluation\n",
    "\n",
    "predictions = model.predict(x_test)\n",
    "predictions = scaler.inverse_transform(predictions)\n",
    "rmse = np.sqrt(np.mean(predictions - y_test)/100)\n",
    "rmse"
   ]
  },
  {
   "cell_type": "code",
   "execution_count": 25,
   "id": "e0dc11a1",
   "metadata": {},
   "outputs": [
    {
     "name": "stdout",
     "output_type": "stream",
     "text": [
      "Accuracy: 91.87620045502067\n"
     ]
    }
   ],
   "source": [
    "# Accuracy for Model\n",
    "\n",
    "print('Accuracy:', 100 - (100*(abs(y_test-predictions)/y_test)).mean())"
   ]
  },
  {
   "cell_type": "code",
   "execution_count": 26,
   "id": "6a06a78c",
   "metadata": {},
   "outputs": [
    {
     "name": "stderr",
     "output_type": "stream",
     "text": [
      "C:\\Users\\hp\\AppData\\Local\\Temp/ipykernel_17828/1587234063.py:6: SettingWithCopyWarning: \n",
      "A value is trying to be set on a copy of a slice from a DataFrame.\n",
      "Try using .loc[row_indexer,col_indexer] = value instead\n",
      "\n",
      "See the caveats in the documentation: https://pandas.pydata.org/pandas-docs/stable/user_guide/indexing.html#returning-a-view-versus-a-copy\n",
      "  validation['Predictions'] = predictions\n"
     ]
    },
    {
     "data": {
      "image/png": "[encoded data removed]",
      "text/plain": [
       "<Figure size 1152x576 with 1 Axes>"
      ]
     },
     "metadata": {
      "needs_background": "light"
     },
     "output_type": "display_data"
    }
   ],
   "source": [
    "# Visualizing the Predicted Prices\n",
    "\n",
    "data = df.filter(['Close'])\n",
    "train = data[:training_data_len]\n",
    "validation = data[training_data_len:]\n",
    "validation['Predictions'] = predictions\n",
    "plt.figure(figsize=(16,8))\n",
    "plt.title('Stock Price')\n",
    "plt.xlabel('Days')\n",
    "plt.ylabel('Close Price ')\n",
    "plt.plot(train)\n",
    "plt.plot(validation[['Close', 'Predictions']])\n",
    "plt.legend(['Train', 'Val', 'Predictions'], loc='lower right')\n",
    "plt.show()"
   ]
  },
  {
   "cell_type": "code",
   "execution_count": 27,
   "id": "e0ab126a",
   "metadata": {},
   "outputs": [
    {
     "data": {
      "image/png": "[encoded data removed]",
      "text/plain": [
       "<Figure size 1440x432 with 1 Axes>"
      ]
     },
     "metadata": {
      "needs_background": "light"
     },
     "output_type": "display_data"
    }
   ],
   "source": [
    "plt.plot(predictions, color = 'blue', label = 'Predicted Stock Price')\n",
    "plt.plot(y_test, color = 'lightblue', label = 'Real Stock Price')\n",
    "\n",
    "plt.title('Stock Price Predictions')\n",
    "plt.xlabel('Days')\n",
    "plt.ylabel('Stock Price')\n",
    "\n",
    "plt.legend()\n",
    "fig=plt.gcf()\n",
    "fig.set_figwidth(20)\n",
    "fig.set_figheight(6)\n",
    "plt.show()"
   ]
  },
  {
   "cell_type": "code",
   "execution_count": null,
   "id": "75cd4045",
   "metadata": {},
   "outputs": [],
   "source": [
    "import pandas as pd\n",
    "import plotly.graph_objs as go\n",
    "from flask import Flask, render_template\n",
    "from gevent.pywsgi import WSGIServer\n",
    "\n",
    "data = pd.read_csv(\"C:/Users/hp/Downloads/ASIANPAINT.csv\")\n",
    "\n",
    "data['Date'] = pd.to_datetime(data['Date'])\n",
    "data = data.set_index('Date')\n",
    "\n",
    "app = Flask(__name__)\n",
    "\n",
    "@app.route('/')\n",
    "def index():\n",
    "    return render_template('index.html')\n",
    "\n",
    "@app.route('/plot')\n",
    "def plot():\n",
    "    fig = go.Figure()\n",
    "    fig.add_trace(go.Scatter(x=data.index, y=data['Close'], name='Closing Price'))\n",
    "    fig.update_layout(title='Asian Paints Stock Data')\n",
    "    return fig.to_html(full_html=False)\n",
    "\n",
    "\"\"\"\n",
    "<!DOCTYPE html>\n",
    "<html>\n",
    "<head>\n",
    "    <title>Asian Paints Stock Dashboard</title>\n",
    "</head>\n",
    "<body>\n",
    "    <h1>Welcome to the Asian Paints Stock Dashboard</h1>\n",
    "    <p>Click <a href=\"/plot\">here</a> to view the stock data plot.</p>\n",
    "</body>\n",
    "</html>\n",
    "\"\"\"\n",
    "\n",
    "\"\"\"\n",
    "<!DOCTYPE html>\n",
    "<html>\n",
    "<head>\n",
    "    <title>Asian Paints Stock Plot</title>\n",
    "</head>\n",
    "<body>\n",
    "    <h1>Asian Paints Stock Plot</h1>\n",
    "    {{ plot_div|safe }}\n",
    "    {{ plot_script|safe }}\n",
    "</body>\n",
    "</html>\n",
    "\"\"\"\n",
    "\n",
    "if __name__ == '__main__':\n",
    "    http_server = WSGIServer(('', 5000), app)\n",
    "    http_server.serve_forever()\n",
    "    "
   ]
  },
  {
   "cell_type": "code",
   "execution_count": null,
   "id": "9c87c7c4",
   "metadata": {
    "scrolled": true
   },
   "outputs": [],
   "source": [
    "pip install --upgrade pip"
   ]
  },
  {
   "cell_type": "code",
   "execution_count": null,
   "id": "fd8f6b20",
   "metadata": {},
   "outputs": [],
   "source": [
    "# Step 1: Collect data\n",
    "import pandas as pd\n",
    "data = pd.read_csv(\"C:/Users/hp/Downloads/ASIANPAINT.csv\")\n",
    "\n",
    "# Step 2: Clean and prepare data\n",
    "data['Date'] = pd.to_datetime(data['Date'])\n",
    "data = data.set_index('Date')\n",
    "\n",
    "# Step 3: Create Django app\n",
    "# Assuming that you have already created a Django project\n",
    "\n",
    "# Create a new app within the project\n",
    "python manage.py startapp dashboard\n",
    "\n",
    "# Add the app to the INSTALLED_APPS setting in settings.py\n",
    "\n",
    "# Define views\n",
    "from django.shortcuts import render\n",
    "import plotly.graph_objs as go\n",
    "\n",
    "def index(request):\n",
    "    return render(request, 'dashboard/index.html')\n",
    "\n",
    "def plot(request):\n",
    "    fig = go.Figure()\n",
    "    fig.add_trace(go.Scatter(x=data.index, y=data['Close'], name='Closing Price'))\n",
    "    fig.update_layout(title='Asian Paints Stock Data')\n",
    "    plot_div = fig.to_html(full_html=False)\n",
    "    return render(request, 'dashboard/plot.html', context={'plot_div': plot_div})\n",
    "\n",
    "# Define URLs\n",
    "from django.urls import path\n",
    "from . import views\n",
    "\n",
    "urlpatterns = [\n",
    "    path('', views.index, name='index'),\n",
    "    path('plot', views.plot, name='plot'),\n",
    "]\n",
    "\n",
    "# Step 4: Choose visualization tools\n",
    "# We will use Plotly for visualization\n",
    "\n",
    "# Step 5: Create dashboard pages\n",
    "# We will create an index.html file and a plot.html file\n",
    "\n",
    "# index.html\n",
    "\"\"\"\n",
    "<!DOCTYPE html>\n",
    "<html>\n",
    "<head>\n",
    "    <title>Asian Paints Stock Dashboard</title>\n",
    "</head>\n",
    "<body>\n",
    "    <h1>Welcome to the Asian Paints Stock Dashboard</h1>\n",
    "    <p>Click <a href=\"{% url 'plot' %}\">here</a> to view the stock data plot.</p>\n",
    "</body>\n",
    "</html>\n",
    "\"\"\"\n",
    "\n",
    "# plot.html\n",
    "\"\"\"\n",
    "<!DOCTYPE html>\n",
    "<html>\n",
    "<head>\n",
    "    <title>Asian Paints Stock Plot</title>\n",
    "</head>\n",
    "<body>\n",
    "    <h1>Asian Paints Stock Plot</h1>\n",
    "    {{ plot_div|safe }}\n",
    "    {{ plot_script|safe }}\n",
    "</body>\n",
    "</html>\n",
    "\"\"\"\n",
    "\n",
    "# Step 6: Integrate data\n",
    "def plot(request):\n",
    "    fig = go.Figure()\n",
    "    fig.add_trace(go.Scatter(x=data.index, y=data['Close'], name='Closing Price'))\n",
    "    fig.update_layout(title='Asian Paints Stock Data')\n",
    "    plot_div = fig.to_html(full_html=False)\n",
    "    plot_script = fig.to_json()\n",
    "    return render(request, 'dashboard/plot.html', context={'plot_div': plot_div, 'plot_script': plot_script})\n",
    "\n",
    "<!DOCTYPE html>\n",
    "<html>\n",
    "<head>\n",
    "    <title>Asian Paints Stock Plot</title>\n",
    "</head>\n",
    "<body>\n",
    "    <h1>Asian Paints Stock Plot</h1>\n",
    "    {{ plot_div|safe }}\n",
    "    {{ plot_script|safe }}\n",
    "</body>\n",
    "</html>\n",
    "\n",
    "def index(request):\n",
    "    return render(request, 'dashboard/index.html')\n",
    "\n",
    "<!DOCTYPE html>\n",
    "<html>\n",
    "<head>\n",
    "    <title>Asian Paints Stock Dashboard</title>\n",
    "</head>\n",
    "<body>\n",
    "    <h1>Welcome to the Asian Paints Stock Dashboard</h1>\n",
    "    <p>Click <a href=\"{% url 'plot' %}\">here</a> to view the stock data plot.</p>\n",
    "</body>\n",
    "</html>\n"
   ]
  },
  {
   "cell_type": "code",
   "execution_count": null,
   "id": "215039a2",
   "metadata": {},
   "outputs": [],
   "source": []
  }
 ],
 "metadata": {
  "kernelspec": {
   "display_name": "Python 3 (ipykernel)",
   "language": "python",
   "name": "python3"
  },
  "language_info": {
   "codemirror_mode": {
    "name": "ipython",
    "version": 3
   },
   "file_extension": ".py",
   "mimetype": "text/x-python",
   "name": "python",
   "nbconvert_exporter": "python",
   "pygments_lexer": "ipython3",
   "version": "3.9.7"
  }
 },
 "nbformat": 4,
 "nbformat_minor": 5
}
